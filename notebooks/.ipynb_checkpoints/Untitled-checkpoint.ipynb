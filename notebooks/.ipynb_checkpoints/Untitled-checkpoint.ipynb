{
 "cells": [
  {
   "cell_type": "code",
   "execution_count": 20,
   "id": "developmental-divide",
   "metadata": {},
   "outputs": [],
   "source": [
    "import pandas as pd"
   ]
  },
  {
   "cell_type": "code",
   "execution_count": 65,
   "id": "killing-potato",
   "metadata": {},
   "outputs": [],
   "source": [
    "df = pd.read_csv('../data/External_Studies_gRNA_Metadata/grna_performance_metadata.csv')"
   ]
  },
  {
   "cell_type": "code",
   "execution_count": 66,
   "id": "desperate-eleven",
   "metadata": {},
   "outputs": [],
   "source": [
    "columns_to_keep = ['gene_symbol', 'source_study', 'guideSeq', 'guide_id', 'transcript_id', 'grna_orientation', 'chrom', 'chromStart', 'chromEnd', 'strand', \n",
    "                   'thickStart', 'thickEnd', 'pam', 'fusi_percentiles_score', 'Cutsite', 'Exon', 'MeanFS', 'MIT_score', 'fusi_percentiles_score', 'leftSeq', 'rightSeq']\n",
    "\n",
    "interets_rename = ['ID', 'source_study', 'MeanFS', 'MIT_score', 'fusi_percentiles_score', 'PAM Index', 'Target']\n",
    "columns_of_interest = ['guide_id', 'Study Guides From', 'PAM Index', 'Target']"
   ]
  },
  {
   "cell_type": "code",
   "execution_count": 67,
   "id": "psychological-business",
   "metadata": {},
   "outputs": [],
   "source": [
    "target_seqs = []\n",
    "df['PAM Index'] = 33\n",
    "df['Target'] = df['leftSeq'] + df['rightSeq']\n",
    "\n",
    "for target_seq in df['Target'].values:\n",
    "    target_seqs.append(target_seq[30:90])\n",
    "\n",
    "df['Target'] = target_seqs"
   ]
  },
  {
   "cell_type": "code",
   "execution_count": 68,
   "id": "broad-trauma",
   "metadata": {},
   "outputs": [],
   "source": [
    "process_df = df[columns_of_interest]\n",
    "process_df.rename(columns={'guide_id':\"ID\"}, inplace=True)"
   ]
  },
  {
   "cell_type": "code",
   "execution_count": 69,
   "id": "static-martial",
   "metadata": {},
   "outputs": [],
   "source": [
    "process_df.to_csv('../data/External_Studies_gRNA_Metadata/genotype_prediction_metadata.csv', index=False)\n",
    "df.to_csv('../data/External_Studies_gRNA_Metadata/grna_performance_metadata.csv', index=False)"
   ]
  },
  {
   "cell_type": "code",
   "execution_count": null,
   "id": "found-confirmation",
   "metadata": {},
   "outputs": [],
   "source": []
  }
 ],
 "metadata": {
  "kernelspec": {
   "display_name": "Python 3",
   "language": "python",
   "name": "python3"
  },
  "language_info": {
   "codemirror_mode": {
    "name": "ipython",
    "version": 3
   },
   "file_extension": ".py",
   "mimetype": "text/x-python",
   "name": "python",
   "nbconvert_exporter": "python",
   "pygments_lexer": "ipython3",
   "version": "3.9.0"
  }
 },
 "nbformat": 4,
 "nbformat_minor": 5
}
